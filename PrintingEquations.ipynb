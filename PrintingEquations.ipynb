{
 "cells": [
  {
   "cell_type": "code",
   "execution_count": 11,
   "id": "c4606c39-6880-4a2c-8d1e-a920de14f65d",
   "metadata": {},
   "outputs": [
    {
     "data": {
      "text/plain": [
       "'4 + 3 = 7'"
      ]
     },
     "metadata": {},
     "output_type": "display_data"
    },
    {
     "data": {
      "text/plain": [
       "'4 + 3 = 7'"
      ]
     },
     "metadata": {},
     "output_type": "display_data"
    }
   ],
   "source": [
    "from IPython.display import display,Math\n",
    "\n",
    "display('4 + 3 = 7')\n",
    "display('4 + 3 = ' + str(4+3))"
   ]
  },
  {
   "cell_type": "code",
   "execution_count": 19,
   "id": "bc80c56d-aa93-41cf-b606-0a6de46945ab",
   "metadata": {},
   "outputs": [
    {
     "data": {
      "text/latex": [
       "$\\displaystyle 4 + 3 = 7$"
      ],
      "text/plain": [
       "<IPython.core.display.Math object>"
      ]
     },
     "metadata": {},
     "output_type": "display_data"
    },
    {
     "data": {
      "text/latex": [
       "$\\displaystyle 4 + 3 = 7$"
      ],
      "text/plain": [
       "<IPython.core.display.Math object>"
      ]
     },
     "metadata": {},
     "output_type": "display_data"
    }
   ],
   "source": [
    "display(Math('4 + 3 = 7'))\n",
    "display(Math('4 + 3 = ' + str(4+3)))"
   ]
  },
  {
   "cell_type": "code",
   "execution_count": 43,
   "id": "00c262df-c08f-4be4-ad10-1f16204ce3c1",
   "metadata": {},
   "outputs": [
    {
     "data": {
      "text/latex": [
       "$\\displaystyle 4 + 3 = 7$"
      ],
      "text/plain": [
       "<IPython.core.display.Math object>"
      ]
     },
     "metadata": {},
     "output_type": "display_data"
    }
   ],
   "source": [
    "x,y = 4, 3\n",
    "\n",
    "display(Math(str(x) +  ' + ' + str(y) + ' = '+ str(7)))"
   ]
  },
  {
   "cell_type": "code",
   "execution_count": 55,
   "id": "49278e38-6d7b-4458-94e4-3556a0e2efd6",
   "metadata": {},
   "outputs": [
    {
     "data": {
      "text/latex": [
       "$\\displaystyle 4 + 3 = 7$"
      ],
      "text/plain": [
       "<IPython.core.display.Math object>"
      ]
     },
     "metadata": {},
     "output_type": "display_data"
    }
   ],
   "source": [
    "display(Math('%g + %g = %g' %(x,y,x+y)))"
   ]
  },
  {
   "cell_type": "code",
   "execution_count": 69,
   "id": "743d8423-41a0-49f4-adbe-7c4bc2800d86",
   "metadata": {},
   "outputs": [
    {
     "data": {
      "text/latex": [
       "$\\displaystyle \\frac{4}{5} = 0.8$"
      ],
      "text/plain": [
       "<IPython.core.display.Math object>"
      ]
     },
     "metadata": {},
     "output_type": "display_data"
    }
   ],
   "source": [
    "display(Math('\\\\frac{4}{5} = %g' %(0.8)))"
   ]
  },
  {
   "cell_type": "code",
   "execution_count": 75,
   "id": "4b716db6-12bc-426d-bcee-bf51cfb357f3",
   "metadata": {},
   "outputs": [
    {
     "data": {
      "text/latex": [
       "$\\displaystyle 3.4 \\times 17 = 57.8$"
      ],
      "text/plain": [
       "<IPython.core.display.Math object>"
      ]
     },
     "metadata": {},
     "output_type": "display_data"
    }
   ],
   "source": [
    "x,y = 3.4, 17\n",
    "\n",
    "display(Math('%g \\\\times %g = %g' %(x,y,x*y)))"
   ]
  },
  {
   "cell_type": "markdown",
   "id": "b81c429d-aa04-435a-853e-4e86cbb3e32a",
   "metadata": {},
   "source": [
    "Exercises:"
   ]
  },
  {
   "cell_type": "code",
   "execution_count": 109,
   "id": "2effc9ea-b988-4685-80ab-b563156e12b8",
   "metadata": {},
   "outputs": [
    {
     "data": {
      "text/latex": [
       "$\\displaystyle 3 \\times 7 \\times (4+-2) = 42$"
      ],
      "text/plain": [
       "<IPython.core.display.Math object>"
      ]
     },
     "metadata": {},
     "output_type": "display_data"
    },
    {
     "data": {
      "text/latex": [
       "$\\displaystyle -y-(\\frac{x+3}{z}) = 0$"
      ],
      "text/plain": [
       "<IPython.core.display.Math object>"
      ]
     },
     "metadata": {},
     "output_type": "display_data"
    }
   ],
   "source": [
    "x,y,z = 7,-2,5\n",
    "\n",
    "display(Math('3 \\\\times %g \\\\times (4+%g) = %g' %(x,y,3*x*(4+y))))\n",
    "display(Math('-y-(\\\\frac{x+3}{z}) = %g'%(-y-((x+3)/z))))"
   ]
  }
 ],
 "metadata": {
  "kernelspec": {
   "display_name": "Python [conda env:base] *",
   "language": "python",
   "name": "conda-base-py"
  },
  "language_info": {
   "codemirror_mode": {
    "name": "ipython",
    "version": 3
   },
   "file_extension": ".py",
   "mimetype": "text/x-python",
   "name": "python",
   "nbconvert_exporter": "python",
   "pygments_lexer": "ipython3",
   "version": "3.12.7"
  }
 },
 "nbformat": 4,
 "nbformat_minor": 5
}
