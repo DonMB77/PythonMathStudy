{
 "cells": [
  {
   "cell_type": "code",
   "execution_count": 7,
   "id": "aa9500e3-a0ca-4050-be77-287fd81b189f",
   "metadata": {},
   "outputs": [
    {
     "name": "stdout",
     "output_type": "stream",
     "text": [
      "0\n",
      "1\n",
      "2\n",
      "3\n"
     ]
    }
   ],
   "source": [
    "for i in [0,1,2,3]:\n",
    "    print(i)"
   ]
  },
  {
   "cell_type": "code",
   "execution_count": 13,
   "id": "74c00ed4-63bf-4467-9f0a-87b1f6d88bb4",
   "metadata": {},
   "outputs": [
    {
     "data": {
      "text/plain": [
       "[0, 1, 2]"
      ]
     },
     "execution_count": 13,
     "metadata": {},
     "output_type": "execute_result"
    }
   ],
   "source": [
    "list(range(0,3))"
   ]
  },
  {
   "cell_type": "code",
   "execution_count": 19,
   "id": "3b48f408-658a-44a5-a263-ce0f1b001738",
   "metadata": {},
   "outputs": [
    {
     "name": "stdout",
     "output_type": "stream",
     "text": [
      "This is the 0th iteration of this loop.\n",
      "This is the 1th iteration of this loop.\n",
      "This is the 2th iteration of this loop.\n"
     ]
    }
   ],
   "source": [
    "for x in range(0,3):\n",
    "    print('This is the %gth iteration of this loop.' %(x))"
   ]
  },
  {
   "cell_type": "code",
   "execution_count": 27,
   "id": "2f5b9733-646c-4aca-a897-1daf04d06c47",
   "metadata": {},
   "outputs": [
    {
     "name": "stdout",
     "output_type": "stream",
     "text": [
      "0\n",
      "1\n",
      "4\n",
      "9\n",
      "16\n"
     ]
    }
   ],
   "source": [
    "for t in range(0,5):\n",
    "    num = t**2\n",
    "    print(num)"
   ]
  },
  {
   "cell_type": "markdown",
   "id": "15ef15ed-ae85-426c-b206-7a87473a2785",
   "metadata": {},
   "source": [
    "Exercice:"
   ]
  },
  {
   "cell_type": "code",
   "execution_count": 35,
   "id": "00f7a576-698f-4724-af03-51cc740fe304",
   "metadata": {},
   "outputs": [
    {
     "name": "stdout",
     "output_type": "stream",
     "text": [
      "2 to the power of 0 = 1\n",
      "2 to the power of 1 = 2\n",
      "2 to the power of 2 = 4\n",
      "2 to the power of 3 = 8\n",
      "2 to the power of 4 = 16\n",
      "2 to the power of 5 = 32\n",
      "2 to the power of 6 = 64\n",
      "2 to the power of 7 = 128\n",
      "2 to the power of 8 = 256\n",
      "2 to the power of 9 = 512\n"
     ]
    }
   ],
   "source": [
    "base = 2\n",
    "\n",
    "for num in range(0,10):\n",
    "    eq = 2**num\n",
    "    print('%g to the power of %g = %g' %(base,num,eq))"
   ]
  }
 ],
 "metadata": {
  "kernelspec": {
   "display_name": "Python [conda env:base] *",
   "language": "python",
   "name": "conda-base-py"
  },
  "language_info": {
   "codemirror_mode": {
    "name": "ipython",
    "version": 3
   },
   "file_extension": ".py",
   "mimetype": "text/x-python",
   "name": "python",
   "nbconvert_exporter": "python",
   "pygments_lexer": "ipython3",
   "version": "3.12.7"
  }
 },
 "nbformat": 4,
 "nbformat_minor": 5
}
