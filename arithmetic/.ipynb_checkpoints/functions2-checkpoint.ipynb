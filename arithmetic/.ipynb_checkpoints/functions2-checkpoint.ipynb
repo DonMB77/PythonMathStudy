{
 "cells": [
  {
   "cell_type": "code",
   "execution_count": 9,
   "id": "09898a6a-b100-4f36-9064-98b94b122709",
   "metadata": {},
   "outputs": [],
   "source": [
    "from IPython.display import Math, display\n",
    "\n",
    "def computePower():\n",
    "    x = int(input(\"Please enter a base.\"))\n",
    "    y = int(input(\"Please enter an exponent.\"))\n",
    "    result = x**y\n",
    "    display(Math(\"%g^{%g} = %g\" %(x,y,result)))"
   ]
  },
  {
   "cell_type": "code",
   "execution_count": 11,
   "id": "a8da0832-d8b6-40ee-aa5c-51bfa0233b04",
   "metadata": {},
   "outputs": [
    {
     "name": "stdin",
     "output_type": "stream",
     "text": [
      "Please enter a base. 3\n",
      "Please enter an exponent. 3\n"
     ]
    },
    {
     "data": {
      "text/latex": [
       "$\\displaystyle 3^{3} = 27$"
      ],
      "text/plain": [
       "<IPython.core.display.Math object>"
      ]
     },
     "metadata": {},
     "output_type": "display_data"
    }
   ],
   "source": [
    "computePower()"
   ]
  },
  {
   "cell_type": "code",
   "execution_count": null,
   "id": "3006cdce-7c44-43a1-bbc1-c325bf06a9e9",
   "metadata": {},
   "outputs": [],
   "source": []
  }
 ],
 "metadata": {
  "kernelspec": {
   "display_name": "Python [conda env:base] *",
   "language": "python",
   "name": "conda-base-py"
  },
  "language_info": {
   "codemirror_mode": {
    "name": "ipython",
    "version": 3
   },
   "file_extension": ".py",
   "mimetype": "text/x-python",
   "name": "python",
   "nbconvert_exporter": "python",
   "pygments_lexer": "ipython3",
   "version": "3.12.7"
  }
 },
 "nbformat": 4,
 "nbformat_minor": 5
}
