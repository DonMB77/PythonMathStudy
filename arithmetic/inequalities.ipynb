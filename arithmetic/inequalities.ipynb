{
 "cells": [
  {
   "cell_type": "code",
   "execution_count": 9,
   "id": "7e6825d3-ca2e-47cb-9664-6bdaa341e788",
   "metadata": {},
   "outputs": [
    {
     "name": "stdout",
     "output_type": "stream",
     "text": [
      "<class 'bool'>\n"
     ]
    }
   ],
   "source": [
    "check = 10 > 3*3\n",
    "print(type(check))"
   ]
  },
  {
   "cell_type": "code",
   "execution_count": 15,
   "id": "c63bc128-8722-40b6-95fd-5e325efc02c2",
   "metadata": {},
   "outputs": [
    {
     "name": "stdout",
     "output_type": "stream",
     "text": [
      "True\n"
     ]
    }
   ],
   "source": [
    "check2 = 4 >= 2+2\n",
    "print(check)"
   ]
  },
  {
   "cell_type": "markdown",
   "id": "51c5e658-209f-42d2-a20b-89b5b3b74ee6",
   "metadata": {},
   "source": [
    "Exercice:"
   ]
  },
  {
   "cell_type": "code",
   "execution_count": 31,
   "id": "af93374c-1da8-4aae-8bdb-70db569dbe61",
   "metadata": {},
   "outputs": [
    {
     "name": "stdout",
     "output_type": "stream",
     "text": [
      "True\n",
      "True\n",
      "\n",
      "False\n",
      "True\n",
      "\n",
      "False\n",
      "True\n"
     ]
    }
   ],
   "source": [
    "x = 2\n",
    "calc1 = 4*x+3<17-x**2\n",
    "calc2 = 8*x-2 <= -3*x+42\n",
    "print(calc1)\n",
    "print(calc2)\n",
    "print()\n",
    "\n",
    "x = 3\n",
    "calc1 = 4*x+3<17-x**2\n",
    "calc2 = 8*x-2 <= -3*x+42\n",
    "print(calc1)\n",
    "print(calc2)\n",
    "print()\n",
    "\n",
    "x = 4\n",
    "calc1 = 4*x+3<17-x**2\n",
    "calc2 = 8*x-2 <= -3*x+42\n",
    "print(calc1)\n",
    "print(calc2)"
   ]
  }
 ],
 "metadata": {
  "kernelspec": {
   "display_name": "Python [conda env:base] *",
   "language": "python",
   "name": "conda-base-py"
  },
  "language_info": {
   "codemirror_mode": {
    "name": "ipython",
    "version": 3
   },
   "file_extension": ".py",
   "mimetype": "text/x-python",
   "name": "python",
   "nbconvert_exporter": "python",
   "pygments_lexer": "ipython3",
   "version": "3.12.7"
  }
 },
 "nbformat": 4,
 "nbformat_minor": 5
}
