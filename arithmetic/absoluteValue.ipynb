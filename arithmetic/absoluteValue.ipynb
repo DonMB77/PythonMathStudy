{
 "cells": [
  {
   "cell_type": "code",
   "execution_count": 11,
   "id": "8a83d462-a16b-4873-92b0-903535ed0748",
   "metadata": {},
   "outputs": [
    {
     "data": {
      "text/plain": [
       "(4, 4)"
      ]
     },
     "execution_count": 11,
     "metadata": {},
     "output_type": "execute_result"
    }
   ],
   "source": [
    "abs(-4),abs(4)"
   ]
  },
  {
   "cell_type": "code",
   "execution_count": 29,
   "id": "079b5bea-c52c-47b1-a47c-a11953a89b39",
   "metadata": {},
   "outputs": [
    {
     "data": {
      "text/latex": [
       "$\\displaystyle |-4.3| = 4.3$"
      ],
      "text/plain": [
       "<IPython.core.display.Math object>"
      ]
     },
     "metadata": {},
     "output_type": "display_data"
    }
   ],
   "source": [
    "from IPython.display import display, Math\n",
    "\n",
    "x = -4.3\n",
    "display(Math(\"|%g| = %g\" %(x,abs(x))))"
   ]
  },
  {
   "cell_type": "code",
   "execution_count": 34,
   "id": "36ccf08e-4a29-4021-997f-60bf0adbc0a4",
   "metadata": {},
   "outputs": [
    {
     "name": "stdout",
     "output_type": "stream",
     "text": [
      "Absolute value of 6 is 6\n",
      "Absolute value of 43 is 43\n",
      "Absolute value of -18 is 18\n"
     ]
    }
   ],
   "source": [
    "list1 = [-4,6,-1,43,-18,2,0]\n",
    "for item in list1:\n",
    "    if item < -5 or item > 2:\n",
    "        print('Absolute value of %g is %g' %(item, abs(item)))"
   ]
  }
 ],
 "metadata": {
  "kernelspec": {
   "display_name": "Python [conda env:base] *",
   "language": "python",
   "name": "conda-base-py"
  },
  "language_info": {
   "codemirror_mode": {
    "name": "ipython",
    "version": 3
   },
   "file_extension": ".py",
   "mimetype": "text/x-python",
   "name": "python",
   "nbconvert_exporter": "python",
   "pygments_lexer": "ipython3",
   "version": "3.12.7"
  }
 },
 "nbformat": 4,
 "nbformat_minor": 5
}
