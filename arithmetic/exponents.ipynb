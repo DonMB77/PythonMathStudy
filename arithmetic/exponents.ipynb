{
 "cells": [
  {
   "cell_type": "code",
   "execution_count": 3,
   "id": "ceb4984f-5dec-4cdc-b446-1bc2fd4e6e7e",
   "metadata": {},
   "outputs": [
    {
     "data": {
      "text/plain": [
       "9"
      ]
     },
     "execution_count": 3,
     "metadata": {},
     "output_type": "execute_result"
    }
   ],
   "source": [
    "3**2"
   ]
  },
  {
   "cell_type": "code",
   "execution_count": 11,
   "id": "60693b2d-4556-474e-b97c-6073fc6ecc38",
   "metadata": {},
   "outputs": [
    {
     "name": "stdout",
     "output_type": "stream",
     "text": [
      "27\n",
      "27\n"
     ]
    }
   ],
   "source": [
    "print(3**3)\n",
    "print(3*3*3)"
   ]
  },
  {
   "cell_type": "code",
   "execution_count": 19,
   "id": "2412c2cc-943e-40d1-9e07-c295bae783fa",
   "metadata": {},
   "outputs": [
    {
     "name": "stdout",
     "output_type": "stream",
     "text": [
      "729\n",
      "729\n"
     ]
    }
   ],
   "source": [
    "print(3**2 * 3**4)\n",
    "print(3**(2+4))"
   ]
  },
  {
   "cell_type": "code",
   "execution_count": 23,
   "id": "26f8e7f3-07ac-4f0e-82c7-4ea53656266c",
   "metadata": {},
   "outputs": [
    {
     "data": {
      "text/plain": [
       "2.0"
      ]
     },
     "execution_count": 23,
     "metadata": {},
     "output_type": "execute_result"
    }
   ],
   "source": [
    "4**(1/2)"
   ]
  },
  {
   "cell_type": "code",
   "execution_count": 37,
   "id": "3d38b5cf-5461-4119-a183-496f383c1eb9",
   "metadata": {},
   "outputs": [
    {
     "data": {
      "text/latex": [
       "$\\displaystyle 3^2 \\times 3^4 = 3^{2+4}$"
      ],
      "text/plain": [
       "<IPython.core.display.Math object>"
      ]
     },
     "metadata": {},
     "output_type": "display_data"
    }
   ],
   "source": [
    "from IPython.display import Math, display\n",
    "display(Math('3^2 \\\\times 3^4 = 3^{2+4}'))"
   ]
  },
  {
   "cell_type": "code",
   "execution_count": 75,
   "id": "ee58b49c-68fc-4070-a55b-5da3a01dc26e",
   "metadata": {},
   "outputs": [
    {
     "data": {
      "text/latex": [
       "$\\displaystyle x^{3/4} \\times 4^y = 3933.09$"
      ],
      "text/plain": [
       "<IPython.core.display.Math object>"
      ]
     },
     "metadata": {},
     "output_type": "display_data"
    }
   ],
   "source": [
    "x, y = 5, 5.1\n",
    "# 1\n",
    "calc1 = x**(3/4)*4**y\n",
    "display(Math('x^{3/4} \\\\times 4^y = %g' %(calc1)))"
   ]
  },
  {
   "cell_type": "code",
   "execution_count": 87,
   "id": "49394cae-2110-4482-b5d5-b9ecd8b394ad",
   "metadata": {},
   "outputs": [
    {
     "data": {
      "text/latex": [
       "$\\displaystyle \\frac{3^3}{x^y} = 0.00735558$"
      ],
      "text/plain": [
       "<IPython.core.display.Math object>"
      ]
     },
     "metadata": {},
     "output_type": "display_data"
    }
   ],
   "source": [
    "# 2\n",
    "calc2 = (3**3)/(x**y)\n",
    "display(Math('\\\\frac{3^3}{x^y} = %g' %(calc2)))"
   ]
  },
  {
   "cell_type": "code",
   "execution_count": 99,
   "id": "871454df-a2db-406b-89d6-295360d6f424",
   "metadata": {},
   "outputs": [
    {
     "data": {
      "text/latex": [
       "$\\displaystyle 10^{x-4} = 10$"
      ],
      "text/plain": [
       "<IPython.core.display.Math object>"
      ]
     },
     "metadata": {},
     "output_type": "display_data"
    }
   ],
   "source": [
    "# 3\n",
    "calc3 = 10**(x-4)\n",
    "display(Math('10^{x-4} = %g' %(calc3)))"
   ]
  }
 ],
 "metadata": {
  "kernelspec": {
   "display_name": "Python [conda env:base] *",
   "language": "python",
   "name": "conda-base-py"
  },
  "language_info": {
   "codemirror_mode": {
    "name": "ipython",
    "version": 3
   },
   "file_extension": ".py",
   "mimetype": "text/x-python",
   "name": "python",
   "nbconvert_exporter": "python",
   "pygments_lexer": "ipython3",
   "version": "3.12.7"
  }
 },
 "nbformat": 4,
 "nbformat_minor": 5
}
